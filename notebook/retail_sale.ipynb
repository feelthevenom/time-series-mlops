{
 "cells": [
  {
   "cell_type": "code",
   "execution_count": 1,
   "id": "a1c68823",
   "metadata": {},
   "outputs": [],
   "source": [
    "import pandas as pd\n",
    "import mlflow"
   ]
  },
  {
   "cell_type": "code",
   "execution_count": 2,
   "id": "f970c510",
   "metadata": {},
   "outputs": [],
   "source": [
    "df = pd.read_csv('../Dataset/retail_sales.csv')"
   ]
  },
  {
   "cell_type": "code",
   "execution_count": null,
   "id": "d70c777e",
   "metadata": {},
   "outputs": [],
   "source": [
    "df['Date'] = pd.to_datetime(df['Date'], dayfirst=True)"
   ]
  },
  {
   "cell_type": "code",
   "execution_count": 4,
   "id": "9d96e3da",
   "metadata": {},
   "outputs": [],
   "source": [
    "df.set_index('Date', inplace=True)"
   ]
  },
  {
   "cell_type": "code",
   "execution_count": null,
   "id": "d2063142",
   "metadata": {},
   "outputs": [],
   "source": [
    "df.info()"
   ]
  },
  {
   "cell_type": "code",
   "execution_count": 6,
   "id": "1ba70e6a",
   "metadata": {},
   "outputs": [],
   "source": [
    "from sklearn.model_selection import train_test_split\n",
    "\n",
    "train, test = train_test_split(df, test_size=0.2, shuffle=False)\n"
   ]
  },
  {
   "cell_type": "code",
   "execution_count": null,
   "id": "b4a3e61f",
   "metadata": {},
   "outputs": [],
   "source": [
    "train"
   ]
  },
  {
   "cell_type": "code",
   "execution_count": null,
   "id": "39ddba4b",
   "metadata": {},
   "outputs": [],
   "source": [
    "from matplotlib import pyplot as plt\n",
    "\n",
    "df.plot(title='Retail Sales', figsize=(12, 8), fontsize=14)\n"
   ]
  },
  {
   "cell_type": "code",
   "execution_count": 9,
   "id": "4da2af86",
   "metadata": {},
   "outputs": [],
   "source": [
    "from sklearn.preprocessing import MinMaxScaler\n",
    "scaler = MinMaxScaler()\n",
    "df['Sales'] = scaler.fit_transform(df[['Sales']])"
   ]
  },
  {
   "cell_type": "code",
   "execution_count": 10,
   "id": "f4dcbfc3",
   "metadata": {},
   "outputs": [],
   "source": [
    "import numpy as np\n",
    "\n",
    "def create_sequences(data, index, window_size):\n",
    "    X, y, timestamps = [], [], []\n",
    "    for i in range(len(data) - window_size):\n",
    "        X.append(data[i:i + window_size])\n",
    "        y.append(data[i + window_size])\n",
    "        timestamps.append(index[i + window_size])\n",
    "    return np.array(X), np.array(y), np.array(timestamps)\n",
    "\n",
    "window_size=24\n",
    "\n",
    "train_X, train_y, train_ts = create_sequences(train['Sales'].values, train.index, window_size)\n",
    "test_X, test_y, test_ts = create_sequences(test['Sales'].values, test.index, window_size)\n",
    "\n",
    "\n"
   ]
  },
  {
   "cell_type": "code",
   "execution_count": 11,
   "id": "4637ff4f",
   "metadata": {},
   "outputs": [],
   "source": [
    "X_train, X_test = train_X, test_X\n",
    "y_train, y_test = train_y, test_y\n",
    "ts_train, ts_test = train_ts, test_ts"
   ]
  },
  {
   "cell_type": "code",
   "execution_count": 12,
   "id": "23145f12",
   "metadata": {},
   "outputs": [],
   "source": [
    "import numpy as np\n",
    "\n",
    "def save_preprocessed_data(filepath, X_train, y_train, ts_train, X_test, y_test, ts_test):\n",
    "    np.savez(filepath,\n",
    "             X_train=X_train,\n",
    "             y_train=y_train,\n",
    "             ts_train=ts_train,\n",
    "             X_test=X_test,\n",
    "             y_test=y_test,\n",
    "             ts_test=ts_test)\n"
   ]
  },
  {
   "cell_type": "code",
   "execution_count": 13,
   "id": "e667d755",
   "metadata": {},
   "outputs": [],
   "source": [
    "save_preprocessed_data(\"retail_sales_preprocessed.npz\", \n",
    "                       X_train, y_train, ts_train, \n",
    "                       X_test, y_test, ts_test)\n"
   ]
  },
  {
   "cell_type": "code",
   "execution_count": 14,
   "id": "f595f709",
   "metadata": {},
   "outputs": [],
   "source": [
    "def load_preprocessed_data(filepath):\n",
    "    data = np.load(filepath, allow_pickle=True)\n",
    "    return (data['X_train'], data['y_train'], data['ts_train'],\n",
    "            data['X_test'], data['y_test'], data['ts_test'])\n"
   ]
  },
  {
   "cell_type": "code",
   "execution_count": 15,
   "id": "42f090be",
   "metadata": {},
   "outputs": [],
   "source": [
    "X_train, y_train, ts_train, X_test, y_test, ts_test = load_preprocessed_data(\"retail_sales_preprocessed.npz\")\n"
   ]
  },
  {
   "cell_type": "code",
   "execution_count": null,
   "id": "f9b33388",
   "metadata": {},
   "outputs": [],
   "source": [
    "print(\"Train lengths\")\n",
    "print(f\"train = {len(train)}\")\n",
    "print(f\"X_train = {len(X_train)}\")\n",
    "\n",
    "print(\"Test length\")\n",
    "print(f\"test = {len(test)}\")\n",
    "print(f\"X_test = {len(X_test)}\")"
   ]
  },
  {
   "cell_type": "markdown",
   "id": "1bb9cbcc",
   "metadata": {},
   "source": [
    "# MLFLOW"
   ]
  },
  {
   "cell_type": "code",
   "execution_count": null,
   "id": "8463d62f",
   "metadata": {},
   "outputs": [],
   "source": [
    "import mlflow\n",
    "import mlflow.tensorflow\n",
    "import numpy as np\n",
    "import tensorflow as tf\n",
    "from tensorflow import keras\n",
    "from tensorflow.keras.models import Sequential\n",
    "from tensorflow.keras.layers import LSTM, GRU, Dense\n",
    "from kerastuner.tuners import RandomSearch\n",
    "\n",
    "# Enable autologging\n",
    "mlflow.tensorflow.autolog()\n",
    "\n",
    "# Define model builder for KerasTuner\n",
    "def build_model(hp):\n",
    "    model = Sequential()\n",
    "    \n",
    "    # Choose model type\n",
    "    model_type = hp.Choice('model_type', ['LSTM', 'GRU', 'Dense'])\n",
    "    units = hp.Int('units', min_value=32, max_value=128, step=16)\n",
    "    layers = hp.Int('num_layers', 1, 3)\n",
    "    \n",
    "    for i in range(layers):\n",
    "        return_seq = i < layers - 1\n",
    "        if model_type == 'LSTM':\n",
    "            model.add(LSTM(units, activation='relu', return_sequences=return_seq,\n",
    "                           input_shape=(window_size, 1) if i == 0 else None))\n",
    "        elif model_type == 'GRU':\n",
    "            model.add(GRU(units, activation='relu', return_sequences=return_seq,\n",
    "                          input_shape=(window_size, 1) if i == 0 else None))\n",
    "        else:\n",
    "            # Dense model flattens and feeds to Dense layers\n",
    "            if i == 0:\n",
    "                model.add(tf.keras.layers.Flatten(input_shape=(window_size, 1)))\n",
    "            model.add(Dense(units, activation='relu'))\n",
    "    \n",
    "    model.add(Dense(1))  # Output layer\n",
    "    model.compile(\n",
    "        optimizer=keras.optimizers.Adam(hp.Float('learning_rate', 1e-4, 1e-2, sampling='log')),\n",
    "        loss='mse'\n",
    "    )\n",
    "    \n",
    "    return model\n",
    "\n",
    "# Setup KerasTuner\n",
    "tuner = RandomSearch(\n",
    "    build_model,\n",
    "    objective='val_loss',\n",
    "    max_trials=10,\n",
    "    executions_per_trial=1,\n",
    "    directory='mlruns_tuning',\n",
    "    project_name='degradation_prediction'\n",
    ")\n",
    "\n",
    "# Search for best hyperparams (inside mlflow run)\n",
    "with mlflow.start_run(run_name=\"hyperparam_tuning\"):\n",
    "    tuner.search(X_train, y_train,\n",
    "                 epochs=10,\n",
    "                 batch_size=32,\n",
    "                 validation_data=(X_test, y_test))\n",
    "\n",
    "# Get the best model\n",
    "best_model = tuner.get_best_models(num_models=1)[0]\n",
    "\n",
    "# Log the best model explicitly\n",
    "mlflow.tensorflow.log_model(best_model, \"best_model\")\n"
   ]
  },
  {
   "cell_type": "markdown",
   "id": "2378bba6",
   "metadata": {},
   "source": [
    "# Tensorflow"
   ]
  },
  {
   "cell_type": "code",
   "execution_count": null,
   "id": "88c13971",
   "metadata": {},
   "outputs": [],
   "source": [
    "from tensorflow.keras.models import Sequential\n",
    "from tensorflow.keras.layers import LSTM, Dense\n",
    "\n",
    "model = Sequential([\n",
    "    LSTM(50, activation='relu', input_shape=(window_size, 1)),\n",
    "    Dense(1)\n",
    "])\n",
    "\n",
    "model.compile(optimizer='adam', loss='mse')\n",
    "model.fit(X_train, y_train, epochs=10, batch_size=32, validation_data=(X_test, y_test))\n"
   ]
  },
  {
   "cell_type": "code",
   "execution_count": null,
   "id": "e655718b",
   "metadata": {},
   "outputs": [],
   "source": [
    "# Predict\n",
    "y_pred = model.predict(X_test)"
   ]
  },
  {
   "cell_type": "code",
   "execution_count": null,
   "id": "b8584c9f",
   "metadata": {},
   "outputs": [],
   "source": [
    "# Inverse scale (optional)\n",
    "y_pred_rescaled = scaler.inverse_transform(y_pred)\n",
    "y_test_rescaled = scaler.inverse_transform(y_test.reshape(-1, 1))\n",
    "\n",
    "# Plot with datetime index\n",
    "import matplotlib.pyplot as plt\n",
    "\n",
    "plt.figure(figsize=(14, 5))\n",
    "plt.plot(ts_test, y_test_rescaled, label='Actual')\n",
    "plt.plot(ts_test, y_pred_rescaled, label='Predicted')\n",
    "plt.xlabel(\"Timestamp\")\n",
    "plt.ylabel(\"Sales\")\n",
    "plt.title(\"LSTM Forecast vs Actual\")\n",
    "plt.legend()\n",
    "plt.tight_layout()\n",
    "plt.show()"
   ]
  },
  {
   "cell_type": "code",
   "execution_count": 30,
   "id": "68d6f92b",
   "metadata": {},
   "outputs": [],
   "source": [
    "output = pd.DataFrame({\n",
    "    'Actual': y_test_rescaled.flatten(),\n",
    "    'Predicted': y_pred_rescaled.flatten()\n",
    "})"
   ]
  },
  {
   "cell_type": "code",
   "execution_count": null,
   "id": "ce332cac",
   "metadata": {},
   "outputs": [],
   "source": [
    "output"
   ]
  },
  {
   "cell_type": "code",
   "execution_count": null,
   "id": "d40509ab",
   "metadata": {},
   "outputs": [],
   "source": [
    "import matplotlib.pyplot as plt\n",
    "\n",
    "plt.figure(figsize=(14, 5))\n",
    "plt.plot(y_test_rescaled, label='Actual')\n",
    "plt.plot(y_pred_rescaled, label='Predicted')\n",
    "plt.legend()\n",
    "plt.title(\"LSTM Forecast vs Actual Sales\")\n",
    "plt.show()\n"
   ]
  }
 ],
 "metadata": {
  "kernelspec": {
   "display_name": "myenv",
   "language": "python",
   "name": "python3"
  },
  "language_info": {
   "codemirror_mode": {
    "name": "ipython",
    "version": 3
   },
   "file_extension": ".py",
   "mimetype": "text/x-python",
   "name": "python",
   "nbconvert_exporter": "python",
   "pygments_lexer": "ipython3",
   "version": "3.11.3"
  }
 },
 "nbformat": 4,
 "nbformat_minor": 5
}
